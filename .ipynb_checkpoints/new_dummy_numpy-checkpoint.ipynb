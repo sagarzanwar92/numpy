{
 "cells": [
  {
   "cell_type": "code",
   "execution_count": 1,
   "id": "12403b41",
   "metadata": {},
   "outputs": [
    {
     "name": "stdout",
     "output_type": "stream",
     "text": [
      "I want to learn to add new features to Numpy\n"
     ]
    }
   ],
   "source": [
    "print('I want to learn to add new features to Numpy')"
   ]
  },
  {
   "cell_type": "code",
   "execution_count": null,
   "id": "f6cb847a",
   "metadata": {},
   "outputs": [],
   "source": []
  }
 ],
 "metadata": {
  "kernelspec": {
   "display_name": "Python 3 (ipykernel)",
   "language": "python",
   "name": "python3"
  },
  "language_info": {
   "codemirror_mode": {
    "name": "ipython",
    "version": 3
   },
   "file_extension": ".py",
   "mimetype": "text/x-python",
   "name": "python",
   "nbconvert_exporter": "python",
   "pygments_lexer": "ipython3",
   "version": "3.9.7"
  }
 },
 "nbformat": 4,
 "nbformat_minor": 5
}
